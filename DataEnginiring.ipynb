{
 "cells": [
  {
   "cell_type": "markdown",
   "id": "b365543e-46f9-4936-a887-0ccb8878e6d2",
   "metadata": {
    "tags": []
   },
   "source": [
    "# __Создание базы данных MySQL на сервере Linux__"
   ]
  },
  {
   "cell_type": "markdown",
   "id": "b0e58716-8fb0-4aec-b9b7-05a74b32ad86",
   "metadata": {
    "tags": []
   },
   "source": [
    "<hr>\n",
    "\n",
    "В этом проекте используется сервер с операционной системой Ubunty 22.04 LTS. Для работы с MySQL необходимо установить MySQL server на наш сервер прописав команду:   \n",
    "\n",
    "<code>sudo mysql_secure_installation utility</code>\n",
    "\n",
    " Далее необходимо сделать MySQL фоновым сервисом для сервера, это необходимо для непрерывной работы MySQL server:\n",
    "   \n",
    "<code>sudo systemctl start mysql</code>\n",
    "\n",
    "<code>sudo systemctl enable mysql</code>\n",
    "\n",
    " Перезагружаем MySQL:\n",
    " \n",
    "<code>sudo systemctl restart mysql</code>\n",
    "\n",
    " Теперь добавим простейший FireWall для безопасности:\n",
    " \n",
    "<code>sudo ufw enable</code>\n",
    "    \n",
    " Разрешаем работу MySQL при включенном UFW:\n",
    " \n",
    "<code>sudo ufw allow mysq</code>\n",
    " \n",
    " Так как нам необходимо настроить удаленный доступ для пользователей MySQL, нужно поправить конфигурационный файл mysqld.cnf. Перейдем в директорию, где он находится:  \n",
    " \n",
    " \n",
    "<code>cd /etc/mysql/mysql.conf.d</code>\n",
    "    \n",
    " Откроем файл mysqld.cnf в текстовом редакторе:\n",
    " \n",
    "<code>nano mysqld.cnf</code>\n",
    "    \n",
    " В файле меняем значение строк __bind-address__ и __mysql-bind-address__ на __0.0.0.0__ Сохраняем файл Ctrl+S и закрываем редактор Ctrl+X.\n",
    " Заходим в MySQL, как root пользователь:\n",
    " \n",
    "<code>mysql -u root -p</code>\n",
    " \n",
    " Создадим базу данных с которой будем работать:\n",
    " \n",
    "<code>CREATE DATABASE Название_Базы_Данных;</code> \n",
    " \n",
    " А теперь создаем пользователя:\n",
    "\n",
    "<code>CREATE USER логин@ipV4 IDENTIFIED BY \"пароль\";</code>\n",
    "\n",
    " Но, так как нам необходимо предоставить доступ пользователям из разных точек мы заменем ipV4 на __'%'__. Мы воспользуемся таким запросом:\n",
    "\n",
    "<code>CREATE USER main@'%' IDENTIFIED BY \"P@ssw0rd\";</code>\n",
    "\n",
    " Предоставим этому пользователю все возможности для работы со всеми таблицами:\n",
    "\n",
    "<code>GRANT ALL ON testDB.* TO main@'%';</code>\n",
    "    \n",
    " Для просмотра пользователей можно воспользоваться командой:\n",
    " \n",
    "<code>SELECT user, host FROM mysql.user;</code>\n",
    "\n",
    " \n",
    "![Пользователи MySQL](Images/users.png)\n",
    "\n",
    " Теперь перейдем к работе с фалами и созданию таблиц!\n",
    " <hr>"
   ]
  },
  {
   "cell_type": "markdown",
   "id": "06378eb7-dc00-42b6-a134-4c56cb7094a5",
   "metadata": {
    "tags": []
   },
   "source": [
    "# __Работа с файлами и автоматизация__"
   ]
  },
  {
   "cell_type": "markdown",
   "id": "612540f0-798a-491e-b0a0-da4daf3936bf",
   "metadata": {},
   "source": [
    "<hr>\n",
    "У нас есть два файла:\n",
    "<ul>\n",
    "    <li><a href=\"ozon_seller_analytics_results.json\">Файл, который мы получили через Ozon Seller API</a></li>\n",
    "    <li><a href=\"ozon_seller_glossary.csv\">Файл с дополнительной информацией о товарах</a></li>\n",
    "</ul>\n",
    "\n",
    "Начнем с работы с более простого. Созданиeм первый DataFrame на его основе. Для этого воспользуемся __Pandas__:\n",
    "\n",
    "<code>pip install pandas</code>"
   ]
  },
  {
   "cell_type": "code",
   "execution_count": 1,
   "id": "dd7f5c03-c271-4290-93be-c3605237cf58",
   "metadata": {
    "tags": []
   },
   "outputs": [
    {
     "data": {
      "text/html": [
       "<div>\n",
       "<style scoped>\n",
       "    .dataframe tbody tr th:only-of-type {\n",
       "        vertical-align: middle;\n",
       "    }\n",
       "\n",
       "    .dataframe tbody tr th {\n",
       "        vertical-align: top;\n",
       "    }\n",
       "\n",
       "    .dataframe thead th {\n",
       "        text-align: right;\n",
       "    }\n",
       "</style>\n",
       "<table border=\"1\" class=\"dataframe\">\n",
       "  <thead>\n",
       "    <tr style=\"text-align: right;\">\n",
       "      <th></th>\n",
       "      <th>sku</th>\n",
       "      <th>name_short</th>\n",
       "      <th>brand</th>\n",
       "      <th>category</th>\n",
       "      <th>great_category</th>\n",
       "    </tr>\n",
       "  </thead>\n",
       "  <tbody>\n",
       "    <tr>\n",
       "      <th>0</th>\n",
       "      <td>539070047</td>\n",
       "      <td>Refill \"Лимон\" для мытья посуды 1 л</td>\n",
       "      <td>SYNERGETIC</td>\n",
       "      <td>Посуда</td>\n",
       "      <td>Clean</td>\n",
       "    </tr>\n",
       "    <tr>\n",
       "      <th>1</th>\n",
       "      <td>538993940</td>\n",
       "      <td>Кондиционер бальзам 3,75л Цветущий апельсин и ...</td>\n",
       "      <td>SYNERGETIC</td>\n",
       "      <td>Кондиционеры</td>\n",
       "      <td>Home</td>\n",
       "    </tr>\n",
       "    <tr>\n",
       "      <th>2</th>\n",
       "      <td>538862456</td>\n",
       "      <td>Кондиционер бальзам 3,75л Нежный ирис и гранат</td>\n",
       "      <td>SYNERGETIC</td>\n",
       "      <td>Кондиционеры</td>\n",
       "      <td>Home</td>\n",
       "    </tr>\n",
       "    <tr>\n",
       "      <th>3</th>\n",
       "      <td>357690113</td>\n",
       "      <td>Подгузники размер 2 / MINI, 50шт</td>\n",
       "      <td>SYNERGETIC</td>\n",
       "      <td>Подгузники</td>\n",
       "      <td>Baby</td>\n",
       "    </tr>\n",
       "    <tr>\n",
       "      <th>4</th>\n",
       "      <td>357690726</td>\n",
       "      <td>Подгузники размер 3 / MIDI, 49шт</td>\n",
       "      <td>SYNERGETIC</td>\n",
       "      <td>Подгузники</td>\n",
       "      <td>Baby</td>\n",
       "    </tr>\n",
       "    <tr>\n",
       "      <th>...</th>\n",
       "      <td>...</td>\n",
       "      <td>...</td>\n",
       "      <td>...</td>\n",
       "      <td>...</td>\n",
       "      <td>...</td>\n",
       "    </tr>\n",
       "    <tr>\n",
       "      <th>865</th>\n",
       "      <td>1099910458</td>\n",
       "      <td>Набор подгузники Pure&amp;Nature, размер 4 / MAXI,...</td>\n",
       "      <td>SYNERGETIC</td>\n",
       "      <td>Наборы</td>\n",
       "      <td>Baby</td>\n",
       "    </tr>\n",
       "    <tr>\n",
       "      <th>866</th>\n",
       "      <td>1100819519</td>\n",
       "      <td>Набор для стирки белья Гель универсальный для ...</td>\n",
       "      <td>SYNERGETIC</td>\n",
       "      <td>Home_Наборы</td>\n",
       "      <td>Home</td>\n",
       "    </tr>\n",
       "    <tr>\n",
       "      <th>867</th>\n",
       "      <td>1100871562</td>\n",
       "      <td>Набор для стирки детского белья гель 5л + конд...</td>\n",
       "      <td>SYNERGETIC</td>\n",
       "      <td>Home_Наборы</td>\n",
       "      <td>Home</td>\n",
       "    </tr>\n",
       "    <tr>\n",
       "      <th>868</th>\n",
       "      <td>1117832231</td>\n",
       "      <td>Набор-Капсулы для стирки Color \"40+40\"</td>\n",
       "      <td>SYNERGETIC</td>\n",
       "      <td>Home_Наборы</td>\n",
       "      <td>Home</td>\n",
       "    </tr>\n",
       "    <tr>\n",
       "      <th>869</th>\n",
       "      <td>1117831887</td>\n",
       "      <td>Набор-Капсулы для стирки Color \"40+60\"</td>\n",
       "      <td>SYNERGETIC</td>\n",
       "      <td>Home_Наборы</td>\n",
       "      <td>Home</td>\n",
       "    </tr>\n",
       "  </tbody>\n",
       "</table>\n",
       "<p>870 rows × 5 columns</p>\n",
       "</div>"
      ],
      "text/plain": [
       "            sku                                         name_short  \\\n",
       "0     539070047                Refill \"Лимон\" для мытья посуды 1 л   \n",
       "1     538993940  Кондиционер бальзам 3,75л Цветущий апельсин и ...   \n",
       "2     538862456     Кондиционер бальзам 3,75л Нежный ирис и гранат   \n",
       "3     357690113                   Подгузники размер 2 / MINI, 50шт   \n",
       "4     357690726                   Подгузники размер 3 / MIDI, 49шт   \n",
       "..          ...                                                ...   \n",
       "865  1099910458  Набор подгузники Pure&Nature, размер 4 / MAXI,...   \n",
       "866  1100819519  Набор для стирки белья Гель универсальный для ...   \n",
       "867  1100871562  Набор для стирки детского белья гель 5л + конд...   \n",
       "868  1117832231             Набор-Капсулы для стирки Color \"40+40\"   \n",
       "869  1117831887             Набор-Капсулы для стирки Color \"40+60\"   \n",
       "\n",
       "          brand      category great_category  \n",
       "0    SYNERGETIC        Посуда          Clean  \n",
       "1    SYNERGETIC  Кондиционеры           Home  \n",
       "2    SYNERGETIC  Кондиционеры           Home  \n",
       "3    SYNERGETIC    Подгузники           Baby  \n",
       "4    SYNERGETIC    Подгузники           Baby  \n",
       "..          ...           ...            ...  \n",
       "865  SYNERGETIC        Наборы           Baby  \n",
       "866  SYNERGETIC   Home_Наборы           Home  \n",
       "867  SYNERGETIC   Home_Наборы           Home  \n",
       "868  SYNERGETIC   Home_Наборы           Home  \n",
       "869  SYNERGETIC   Home_Наборы           Home  \n",
       "\n",
       "[870 rows x 5 columns]"
      ]
     },
     "execution_count": 1,
     "metadata": {},
     "output_type": "execute_result"
    }
   ],
   "source": [
    "import pandas as pd\n",
    "\n",
    "gl = pd.read_csv(\"Data/ozon_seller_glossary.csv\")\n",
    "gl"
   ]
  },
  {
   "cell_type": "markdown",
   "id": "d8a606f4-40ba-4aa2-bf5d-360152fba181",
   "metadata": {},
   "source": [
    "Создадим второй DataFrame. Это будет результирующая таблица, с колонками как в референсе, но с одним дополнительным столбцом __ozon_id__. Ниже референсная таблица:\n",
    "\n",
    "![Референсная таблица](Images/ref_table.png)"
   ]
  },
  {
   "cell_type": "code",
   "execution_count": 2,
   "id": "919c29b3-fac3-46cb-975d-25505ac50763",
   "metadata": {
    "tags": []
   },
   "outputs": [],
   "source": [
    "tableColumns = [\"ozon_ID\", \"Направление\", \"Категория\", \"sku\", \"Название товара\", \"session_view_search\", \"ordered_units\", \"revenue\", \"position_category\"]\n",
    "df = pd.DataFrame(columns=tableColumns)"
   ]
  },
  {
   "cell_type": "markdown",
   "id": "7e0f7742-b33e-4da7-9bc1-d57fe38902e3",
   "metadata": {
    "tags": []
   },
   "source": [
    "Начнем работу с __.json файлом__"
   ]
  },
  {
   "cell_type": "code",
   "execution_count": 3,
   "id": "286085db-f510-4577-945e-7a83449e8cb1",
   "metadata": {
    "tags": []
   },
   "outputs": [],
   "source": [
    "import json\n",
    "\n",
    "with open(\"Data/ozon_seller_analytics_results.json\", encoding=\"utf-8\") as file:\n",
    "    js = json.load(file)\n",
    "\n",
    "inner = js[0]['result']['data']"
   ]
  },
  {
   "cell_type": "markdown",
   "id": "03ea9526-5f21-4e31-946d-ef71aa52a942",
   "metadata": {
    "tags": []
   },
   "source": [
    "Му получили объект List с нужными нам данными. Теперь нам необходимо извлечь данные и поместить их DataFrame, НО перед нами становится задача сопоставить названия товаров из объявлений Ozon (__.json файл__) и файла с кодами __sku__ для правильного заполнения таблицы.\n",
    "\n",
    "_Пример задачи сопоставления._ В файле с __sku__ один товар называется: \n",
    "\n",
    "    Набор для стирки детского белья гель 5л + кондиционер Нежное прикосновение 5л\n",
    "\n",
    "А в __.json файл__ этот же предмет называется двумя разными способами:\n",
    "    \n",
    "    Набор для стирки детского белья SYNERGETIC гель 5л + кондиционер Нежное прикосновение 5л + подарок. Уцененный товар\n",
    "    Набор для стирки детского белья SYNERGETIC гель 5л + кондиционер Нежное прикосновение 5л + подарок Уцененный товар\n",
    "\n",
    "И это только один из примеров. Перебрать их все и написать правила для обработки каждого товара невозможно. Из готовых решений существует инструмент для сравнения строк __fuzzywuzzy__, библиотека для Python. Этот инструмент использует метрику _Расстояние Левенштейна_, поэтому для ускорения его работы необходимо дополнительно установить еще один пакет:\n",
    "\n",
    "<code>pip install fuzzywuzzy</code>\n",
    "\n",
    "<code>pip install python-Levenshtein</code>\n",
    "\n",
    "Посмотрим, как он отработает с нашей задачей:"
   ]
  },
  {
   "cell_type": "code",
   "execution_count": 4,
   "id": "bde5afde-4435-4ab5-a6a4-12dc57e98898",
   "metadata": {
    "tags": []
   },
   "outputs": [
    {
     "name": "stdout",
     "output_type": "stream",
     "text": [
      "Схожесть: 80%\n"
     ]
    }
   ],
   "source": [
    "from fuzzywuzzy import fuzz\n",
    "value1 = \"Набор для стирки детского белья гель 5л + кондиционер Нежное прикосновение 5л\"\n",
    "value2 = \"Набор для стирки детского белья SYNERGETIC гель 5л + кондиционер Нежное прикосновение 5л + подарок. Уцененный товар\"\n",
    "\n",
    "# Используйте функцию fuzz.ratio() для сравнения строк\n",
    "similarity_ratio = fuzz.ratio(value1, value2)\n",
    "\n",
    "print(f\"Схожесть: {similarity_ratio}%\")"
   ]
  },
  {
   "cell_type": "markdown",
   "id": "af727236-b7e4-4aa3-a444-2f7693fdb57f",
   "metadata": {},
   "source": [
    "Мы можем увеличить коэффициент схожести убрав часть строки \"Уцененный товар\" и точки, так как они есть не в каждой записи и не являются важной частью строки."
   ]
  },
  {
   "cell_type": "code",
   "execution_count": 5,
   "id": "a699c587-d88b-4feb-a9fe-2008df9e75ba",
   "metadata": {
    "tags": []
   },
   "outputs": [
    {
     "name": "stdout",
     "output_type": "stream",
     "text": [
      "Схожесть: 88%\n"
     ]
    }
   ],
   "source": [
    "value1 = \"Набор для стирки детского белья гель 5л + кондиционер Нежное прикосновение 5л\"\n",
    "value2 = \"Набор для стирки детского белья SYNERGETIC гель 5л + кондиционер Нежное прикосновение 5л + подарок\"\n",
    "\n",
    "# Используйте функцию fuzz.ratio() для сравнения строк\n",
    "similarity_ratio = fuzz.ratio(value1, value2)\n",
    "\n",
    "print(f\"Схожесть: {similarity_ratio}%\")"
   ]
  },
  {
   "cell_type": "markdown",
   "id": "4ee02621-057d-4bf2-b393-70fcb530a035",
   "metadata": {},
   "source": [
    "Теперь необходимо найти коэффициент, который будет находить наши названия без ошибок. Мы попробовали разные значения, но при маленьком значение <70 результат никуда не годится, а при большом >80 маленькое количество записей.\n",
    "\n",
    "<table>\n",
    "    <tr>\n",
    "        <th>коэффициент</th>\n",
    "        <th>записей</th>\n",
    "    </tr>\n",
    "    <tr>\n",
    "        <td>75</td>\n",
    "        <td>256</td>\n",
    "    </tr>\n",
    "    <tr>\n",
    "        <td>80</td>\n",
    "        <td>356</td>\n",
    "    </tr>\n",
    "    <tr>\n",
    "        <td>85</td>\n",
    "        <td>202</td>\n",
    "    </tr>\n",
    "</table>\n",
    "\n",
    "В коде ниже можно менять значения __newCof__ в условии if для изменения приемлемого коэффициент и значения __i__ для ограничения вывода записей (это необходимо для упрощения читаемости файла)."
   ]
  },
  {
   "cell_type": "code",
   "execution_count": 6,
   "id": "59bb50db-6cdb-4ca7-ae13-cc16d6e1d056",
   "metadata": {
    "tags": []
   },
   "outputs": [
    {
     "name": "stdout",
     "output_type": "stream",
     "text": [
      "Схожесть: 75\n",
      "\"Интенсивное увлажнение и блеск\" шампунь + бальзам\n",
      "Набор натуральный уход для волос \"Интенсивное увлажнение и блеск\" шампунь + бальзам \n",
      "Схожесть: 80\n",
      "\"Максимальное питание и восстановление\" шампунь + бальзам\n",
      "Натуральный уход для волос \"Максимальное питание и восстановление\" шампунь + бальзам \n",
      "Схожесть: 93\n",
      "Набор для уборки Чистота и блеск, антижир, средство для уборки дома, сантехники 6шт.*500мл.\n",
      "Synergetic Набор для уборки Чистота и блеск, антижир, средство для уборки дома, сантехники 6шт*500мл \n",
      "Схожесть: 93\n",
      "Набор для уборки Чистота и блеск, антижир, средство для уборки дома, сантехники 6шт.*500мл.\n",
      "Synergetic Набор для уборки Чистота и блеск, антижир, средство для уборки дома, сантехники 6шт*500мл \n",
      "Схожесть: 93\n",
      "Набор для уборки Чистота и блеск, антижир, средство для уборки дома, сантехники 6шт.*500мл.\n",
      "Synergetic Набор для уборки Чистота и блеск, антижир, средство для уборки дома, сантехники 6шт*500мл \n",
      "Схожесть: 93\n",
      "Набор для уборки Чистота и блеск, антижир, средство для уборки дома, сантехники 6шт.*500мл.\n",
      "Synergetic Набор для уборки Чистота и блеск, антижир, средство для уборки дома, сантехники 6шт*500мл \n",
      "Схожесть: 88\n",
      "Набор для стирки детского белья гель 5л + кондиционер Нежное прикосновение 5л\n",
      "Набор для стирки детского белья SYNERGETIC гель 5л + кондиционер Нежное прикосновение 5л + подарок \n",
      "Схожесть: 85\n",
      "Соль для ванн магниево-сульфатная\n",
      "Соль для ванн магниево-сульфатная SYNERGETIC \n",
      "Схожесть: 93\n",
      "Набор \"Стирка на 3 месяца\" гель для стирки 3 шт + кондиционер для белья 2 шт + подарок\n",
      "Набор \"Стирка на 3 месяца\" SYNERGETIC: гель для стирки 3 шт + кондиционер для белья 2 шт + подарок \n",
      "Схожесть: 93\n",
      "Набор для уборки Чистота и блеск, антижир, средство для уборки дома, сантехники 6шт.*500мл.\n",
      "Synergetic Набор для уборки Чистота и блеск, антижир, средство для уборки дома, сантехники 6шт*500мл \n",
      "Схожесть: 78\n",
      "Набор для уборки дома\n",
      "Набор для уборки дома SYNERGETIC \n",
      "Схожесть: 99\n",
      "Набор чистящих средств SYNERGETIC Чистый дом + ПОДАРОК\n",
      "Набор чистящих средств SYNERGETIC Чистый дом + ПОДАРОК \n",
      "Схожесть: 88\n",
      "Набор для стирки детского белья гель 5л + кондиционер Нежное прикосновение 5л\n",
      "Набор для стирки детского белья SYNERGETIC гель 5л + кондиционер Нежное прикосновение 5л + подарок \n",
      "Схожесть: 88\n",
      "Набор для стирки детского белья гель 5л + кондиционер Нежное прикосновение 5л\n",
      "Набор для стирки детского белья SYNERGETIC гель 5л + кондиционер Нежное прикосновение 5л + подарок \n",
      "Схожесть: 95\n",
      "Набор для стирки белья Гель универсальный для всех видов тканей 5л + Кондиционер-ополаскиватель Утренняя роса 5л\n",
      "Набор для стирки белья SYNERGETIC Гель универсальный для всех видов тканей 5л + Кондиционер-ополаскиватель Утренняя роса 5л \n",
      "Схожесть: 93\n",
      "Набор для уборки Чистота и блеск, антижир, средство для уборки дома, сантехники 6шт.*500мл.\n",
      "Synergetic Набор для уборки Чистота и блеск, антижир, средство для уборки дома, сантехники 6шт*500мл \n",
      "Схожесть: 99\n",
      "Набор чистящих средств SYNERGETIC Чистый дом + ПОДАРОК\n",
      "Набор чистящих средств SYNERGETIC Чистый дом + ПОДАРОК \n",
      "Схожесть: 99\n",
      "Набор чистящих средств SYNERGETIC Чистый дом + ПОДАРОК\n",
      "Набор чистящих средств SYNERGETIC Чистый дом + ПОДАРОК \n",
      "Схожесть: 78\n",
      "Гель для душа SYNERGETIC \"Кокос и масло макадамии\" 380мл\n",
      "Гель для душа SYNERGETIC \"Кокос и масло макадамии\" увлажняющий, натуральный, 750мл \n",
      "Схожесть: 95\n",
      "Набор для стирки белья Гель универсальный для всех видов тканей 5л + Кондиционер-ополаскиватель Утренняя роса 5л\n",
      "Набор для стирки белья SYNERGETIC Гель универсальный для всех видов тканей 5л + Кондиционер-ополаскиватель Утренняя роса 5л \n",
      "Схожесть: 93\n",
      "Набор для уборки Чистота и блеск, антижир, средство для уборки дома, сантехники 6шт.*500мл.\n",
      "Synergetic Набор для уборки Чистота и блеск, антижир, средство для уборки дома, сантехники 6шт*500мл \n",
      "Схожесть: 93\n",
      "Набор для уборки Чистота и блеск, антижир, средство для уборки дома, сантехники 6шт.*500мл.\n",
      "Synergetic Набор для уборки Чистота и блеск, антижир, средство для уборки дома, сантехники 6шт*500мл \n",
      "Схожесть: 93\n",
      "Набор для уборки Чистота и блеск, антижир, средство для уборки дома, сантехники 6шт.*500мл.\n",
      "Synergetic Набор для уборки Чистота и блеск, антижир, средство для уборки дома, сантехники 6шт*500мл \n",
      "Схожесть: 93\n",
      "Набор \"Стирка на 3 месяца\" гель для стирки 3 шт + кондиционер для белья 2 шт + подарок\n",
      "Набор \"Стирка на 3 месяца\" SYNERGETIC: гель для стирки 3 шт + кондиционер для белья 2 шт + подарок \n",
      "Схожесть: 93\n",
      "Набор \"Стирка на 3 месяца\" гель для стирки 3 шт + кондиционер для белья 2 шт + подарок\n",
      "Набор \"Стирка на 3 месяца\" SYNERGETIC: гель для стирки 3 шт + кондиционер для белья 2 шт + подарок \n"
     ]
    }
   ],
   "source": [
    "import re\n",
    "\n",
    "patt = re.compile(r\"Уцененный товар|\\.\")\n",
    "\n",
    "# количество выводимых значений\n",
    "i = 25\n",
    "\n",
    "for item in inner:\n",
    "    if i == 0:\n",
    "        break;\n",
    "    cof = newCof = 0\n",
    "    for name in gl[\"name_short\"]:\n",
    "        formattedLine = re.sub(patt,\"\",item['dimensions'][0][\"name\"])\n",
    "        newCof = fuzz.ratio(name, formattedLine)\n",
    "        \n",
    "        # Коэффициент меняеться тут newCof\n",
    "        \n",
    "        if newCof > cof and newCof >= 75:\n",
    "            cof = newCof\n",
    "            factName = name      \n",
    "    if cof == 0:\n",
    "        continue\n",
    "    i -= 1\n",
    "    print(f\"Схожесть: {cof}\")\n",
    "    print(factName)\n",
    "    print(formattedLine)"
   ]
  },
  {
   "cell_type": "markdown",
   "id": "55ab00c8-00c2-460a-8d32-a7dc38d53d2c",
   "metadata": {},
   "source": [
    "  "
   ]
  },
  {
   "cell_type": "markdown",
   "id": "9b0f1b74-0739-485e-9321-738f40e559fb",
   "metadata": {},
   "source": [
    "Если поиграться с коэффициентом можно добиться неплохого результата, __НО__ этого недостаточно, так как с большим коэффициент за 80 единиц иногда проходят ошибки, где предмет определяется правильно, но его объем может отличаться. Так же можно заметить, что все слова из таблицы с кодами __sku__ будут в названии товара __.json файла__, но у второго могут быть дополнительные слова в названии, которые дополняют название товара, но для нас они не важны. Поэтому мы можем сравнивать, строки следующим образом, если все слова из первой строки входят во вторую, то мы считаем, что это одинаковые товары."
   ]
  },
  {
   "cell_type": "code",
   "execution_count": 7,
   "id": "4452c2d5-2027-4fc6-a945-e8c630e413b2",
   "metadata": {
    "tags": []
   },
   "outputs": [],
   "source": [
    "def find_right_name(line):\n",
    "    \n",
    "    listOfWords = re.sub(patt,\"\",line).split()\n",
    "    set1 = set(listOfWords)\n",
    "    \n",
    "    for name in gl[\"name_short\"]:\n",
    "        TableOfWords = name.replace(\".\",\"\").split()\n",
    "        set2 = set(TableOfWords)\n",
    "        \n",
    "        if set2.issubset(set1):\n",
    "            return(name)\n",
    "        \n",
    "    return False"
   ]
  },
  {
   "cell_type": "markdown",
   "id": "196adbdd-f7f5-473c-a8cc-142ac3c5153f",
   "metadata": {
    "tags": []
   },
   "source": [
    "Если мы применим данный подход на наших значениям. Мы получим следующую таблицу, в которой больше записей, чем при оптимальных коэффициент предыдущего метода, а также они более точные."
   ]
  },
  {
   "cell_type": "code",
   "execution_count": 8,
   "id": "36e38a55-0aad-497e-ab81-9b9fea231fb0",
   "metadata": {
    "tags": []
   },
   "outputs": [
    {
     "name": "stdout",
     "output_type": "stream",
     "text": [
      "        ozon_ID Направление     Категория        sku  \\\n",
      "0    1256401757      Beauty  Бьюти наборы  768984203   \n",
      "1    1256348839      Beauty  Бьюти наборы  768982257   \n",
      "2    1256311449       Clean  Clean_Наборы  923472107   \n",
      "3    1255377853       Clean  Clean_Наборы  923472107   \n",
      "4    1255354798       Clean  Clean_Наборы  923472107   \n",
      "..          ...         ...           ...        ...   \n",
      "368  1186368665       Clean  Clean_Наборы  923472107   \n",
      "369  1186170357      Beauty   Жидкое мыло  723245843   \n",
      "370  1185041318      Beauty  Бьюти наборы  768984203   \n",
      "371  1184606999        Home  Кондиционеры  723199033   \n",
      "372  1183514022      Beauty   Жидкое мыло  722019918   \n",
      "\n",
      "                                       Название товара session_view_search  \\\n",
      "0    Набор натуральный уход для волос \"Интенсивное ...                  23   \n",
      "1    Натуральный уход для волос \"Максимальное питан...                  15   \n",
      "2    Synergetic Набор для уборки Чистота и блеск, а...                  78   \n",
      "3    Synergetic Набор для уборки Чистота и блеск, а...                 121   \n",
      "4    Synergetic Набор для уборки Чистота и блеск, а...                 116   \n",
      "..                                                 ...                 ...   \n",
      "368  Synergetic Набор для уборки Чистота и блеск, а...                1666   \n",
      "369  Жидкое мыло SYNERGETIC \"Лаванда\" с эффектом ув...                   0   \n",
      "370  Набор натуральный уход для волос \"Интенсивное ...                   0   \n",
      "371  Кондиционер - ополаскиватель для стирки белья ...                   0   \n",
      "372  Жидкое мыло для рук и тела SYNERGETIC \"Цветущи...                   0   \n",
      "\n",
      "    ordered_units revenue  position_category  \n",
      "0               0       0          89.500000  \n",
      "1               0       0          55.928571  \n",
      "2               0       0         131.526316  \n",
      "3               0       0         109.761905  \n",
      "4               0       0         111.349206  \n",
      "..            ...     ...                ...  \n",
      "368             0       0         226.758621  \n",
      "369             0       0           0.000000  \n",
      "370             0       0           0.000000  \n",
      "371             0       0           0.000000  \n",
      "372             0       0           0.000000  \n",
      "\n",
      "[373 rows x 9 columns]\n"
     ]
    }
   ],
   "source": [
    "for item in inner:\n",
    "    result = find_right_name(item['dimensions'][0][\"name\"])\n",
    "    if result == False:\n",
    "        continue\n",
    "    elif  (sum(item[\"metrics\"][0:-3])+sum(item[\"metrics\"][-2:]) > 0) & (int(item[\"metrics\"][8]) == 0):\n",
    "        continue\n",
    "    elif  (sum(item[\"metrics\"][0:-3])+sum(item[\"metrics\"][-2:]) == 0) & (int(item[\"metrics\"][8]) != 0):\n",
    "        continue\n",
    "    else:\n",
    "        row_data = {   \n",
    "        'ozon_ID': item['dimensions'][0][\"id\"],\n",
    "        'Направление': gl.loc[gl[\"name_short\"] == result][\"great_category\"].values[0],\n",
    "        'Категория': gl.loc[gl[\"name_short\"] == result][\"category\"].values[0],\n",
    "        'sku': gl.loc[gl[\"name_short\"] == result][\"sku\"].values[0],\n",
    "        'Название товара': item['dimensions'][0][\"name\"],\n",
    "        'session_view_search': item[\"metrics\"][0],\n",
    "        'ordered_units': item[\"metrics\"][4],\n",
    "        'revenue': item[\"metrics\"][7],    \n",
    "        'position_category': item[\"metrics\"][8]\n",
    "        }\n",
    "    \n",
    "    df = pd.concat([df, pd.DataFrame([row_data], columns=tableColumns)], ignore_index=True)\n",
    "\n",
    "# Распечатаем результат\n",
    "print(df)"
   ]
  },
  {
   "cell_type": "markdown",
   "id": "03e3cae2-899e-478f-b609-72db648fc905",
   "metadata": {},
   "source": [
    "Создадим таблицу в нашей БД из DataFrame. Для этого нам необходимы:\n",
    "\n",
    "<code>pip install sqlalchemy</code>\n",
    "\n",
    "<code>pip install mysql-connector-python</code>\n",
    "\n",
    "Единственная проблема - это специальный символ в нашем пароле __@__ для решения этой проблемы мы воспользуемся методами <a href=\"https://stackoverflow.com/questions/58661569/password-with-cant-connect-the-database\">urllib</a>"
   ]
  },
  {
   "cell_type": "code",
   "execution_count": 9,
   "id": "7631da75-f699-4b60-9e90-cf64875aa78d",
   "metadata": {
    "tags": []
   },
   "outputs": [
    {
     "name": "stdout",
     "output_type": "stream",
     "text": [
      "2023-11-13 13:22:12,386 INFO sqlalchemy.engine.Engine SELECT DATABASE()\n",
      "2023-11-13 13:22:12,388 INFO sqlalchemy.engine.Engine [raw sql] {}\n",
      "2023-11-13 13:22:12,400 INFO sqlalchemy.engine.Engine SELECT @@sql_mode\n",
      "2023-11-13 13:22:12,400 INFO sqlalchemy.engine.Engine [raw sql] {}\n",
      "2023-11-13 13:22:12,407 INFO sqlalchemy.engine.Engine SELECT @@lower_case_table_names\n",
      "2023-11-13 13:22:12,407 INFO sqlalchemy.engine.Engine [raw sql] {}\n",
      "Успешное подключение!\n",
      "2023-11-13 13:22:12,438 INFO sqlalchemy.engine.Engine BEGIN (implicit)\n",
      "2023-11-13 13:22:12,442 INFO sqlalchemy.engine.Engine DESCRIBE `testDB`.`Main_Table`\n",
      "2023-11-13 13:22:12,443 INFO sqlalchemy.engine.Engine [raw sql] {}\n",
      "2023-11-13 13:22:12,453 INFO sqlalchemy.engine.Engine DESCRIBE `testDB`.`Main_Table`\n",
      "2023-11-13 13:22:12,455 INFO sqlalchemy.engine.Engine [raw sql] {}\n",
      "2023-11-13 13:22:12,461 INFO sqlalchemy.engine.Engine SHOW FULL TABLES FROM `testDB`\n",
      "2023-11-13 13:22:12,461 INFO sqlalchemy.engine.Engine [raw sql] {}\n",
      "2023-11-13 13:22:12,475 INFO sqlalchemy.engine.Engine SHOW CREATE TABLE `Main_Table`\n",
      "2023-11-13 13:22:12,475 INFO sqlalchemy.engine.Engine [raw sql] {}\n",
      "2023-11-13 13:22:12,482 INFO sqlalchemy.engine.Engine \n",
      "DROP TABLE `Main_Table`\n",
      "2023-11-13 13:22:12,484 INFO sqlalchemy.engine.Engine [no key 0.00357s] {}\n",
      "2023-11-13 13:22:12,499 INFO sqlalchemy.engine.Engine \n",
      "CREATE TABLE `Main_Table` (\n",
      "\t`ozon_ID` TEXT, \n",
      "\t`Направление` TEXT, \n",
      "\t`Категория` TEXT, \n",
      "\tsku BIGINT, \n",
      "\t`Название товара` TEXT, \n",
      "\tsession_view_search BIGINT, \n",
      "\tordered_units BIGINT, \n",
      "\trevenue TEXT, \n",
      "\tposition_category FLOAT(53)\n",
      ")\n",
      "\n",
      "\n",
      "2023-11-13 13:22:12,499 INFO sqlalchemy.engine.Engine [no key 0.00357s] {}\n",
      "2023-11-13 13:22:12,534 INFO sqlalchemy.engine.Engine INSERT INTO `Main_Table` (`ozon_ID`, `Направление`, `Категория`, sku, `Название товара`, session_view_search, ordered_units, revenue, position_category) VALUES (%(ozon_ID)s, %(Направление)s, %(Категория)s, %(sku)s, %(Название_товара)s, %(session_view_search)s, %(ordered_units)s, %(revenue)s, %(position_category)s)\n",
      "2023-11-13 13:22:12,534 INFO sqlalchemy.engine.Engine [generated in 0.00439s] [{'ozon_ID': '1256401757', 'Направление': 'Beauty', 'Категория': 'Бьюти наборы', 'sku': 768984203, 'Название_товара': 'Набор натуральный уход для волос \"Интенсивное увлажнение и блеск\" шампунь + бальзам Уцененный товар', 'session_view_search': 23, 'ordered_units': 0, 'revenue': 0, 'position_category': 89.5}, {'ozon_ID': '1256348839', 'Направление': 'Beauty', 'Категория': 'Бьюти наборы', 'sku': 768982257, 'Название_товара': 'Натуральный уход для волос \"Максимальное питание и восстановление\" шампунь + бальзам. Уцененный товар', 'session_view_search': 15, 'ordered_units': 0, 'revenue': 0, 'position_category': 55.92857142857143}, {'ozon_ID': '1256311449', 'Направление': 'Clean', 'Категория': 'Clean_Наборы', 'sku': 923472107, 'Название_товара': 'Synergetic Набор для уборки Чистота и блеск, антижир, средство для уборки дома, сантехники 6шт.*500мл. Уцененный товар', 'session_view_search': 78, 'ordered_units': 0, 'revenue': 0, 'position_category': 131.52631578947367}, {'ozon_ID': '1255377853', 'Направление': 'Clean', 'Категория': 'Clean_Наборы', 'sku': 923472107, 'Название_товара': 'Synergetic Набор для уборки Чистота и блеск, антижир, средство для уборки дома, сантехники 6шт.*500мл. Уцененный товар', 'session_view_search': 121, 'ordered_units': 0, 'revenue': 0, 'position_category': 109.76190476190476}, {'ozon_ID': '1255354798', 'Направление': 'Clean', 'Категория': 'Clean_Наборы', 'sku': 923472107, 'Название_товара': 'Synergetic Набор для уборки Чистота и блеск, антижир, средство для уборки дома, сантехники 6шт.*500мл. Уцененный товар', 'session_view_search': 116, 'ordered_units': 0, 'revenue': 0, 'position_category': 111.34920634920636}, {'ozon_ID': '1255197679', 'Направление': 'Clean', 'Категория': 'Clean_Наборы', 'sku': 923472107, 'Название_товара': 'Synergetic Набор для уборки Чистота и блеск, антижир, средство для уборки дома, сантехники 6шт.*500мл. Уцененный товар', 'session_view_search': 112, 'ordered_units': 0, 'revenue': 0, 'position_category': 125.74545454545455}, {'ozon_ID': '1255061732', 'Направление': 'Home', 'Категория': 'Home_Наборы', 'sku': 1100871562, 'Название_товара': 'Набор для стирки детского белья SYNERGETIC гель 5л + кондиционер Нежное прикосновение 5л + подарок Уцененный товар', 'session_view_search': 259, 'ordered_units': 0, 'revenue': 0, 'position_category': 124.66666666666667}, {'ozon_ID': '1254981947', 'Направление': 'Beauty', 'Категория': 'Соль для ванны', 'sku': 737759704, 'Название_товара': 'Соль для ванн магниево-сульфатная SYNERGETIC Уцененный товар', 'session_view_search': 188, 'ordered_units': 0, 'revenue': 0, 'position_category': 194.75862068965517}  ... displaying 10 of 373 total bound parameter sets ...  {'ozon_ID': '1184606999', 'Направление': 'Home', 'Категория': 'Кондиционеры', 'sku': 723199033, 'Название_товара': 'Кондиционер - ополаскиватель для стирки белья SYNERGETIC Цветочная фантазия 5л, 165 стирок гипоаллергенный, эко, биоразлагаемый, концентрированный, 5 литров. Уцененный товар', 'session_view_search': 0, 'ordered_units': 0, 'revenue': 0, 'position_category': 0.0}, {'ozon_ID': '1183514022', 'Направление': 'Beauty', 'Категория': 'Жидкое мыло', 'sku': 722019918, 'Название_товара': 'Жидкое мыло для рук и тела SYNERGETIC \"Цветущий инжир и лотос\" увлажняющее, натуральное, 380мл Уцененный товар', 'session_view_search': 0, 'ordered_units': 0, 'revenue': 0, 'position_category': 0.0}]\n",
      "2023-11-13 13:22:12,574 INFO sqlalchemy.engine.Engine SHOW FULL TABLES FROM `testDB`\n",
      "2023-11-13 13:22:12,575 INFO sqlalchemy.engine.Engine [raw sql] {}\n",
      "2023-11-13 13:22:12,578 INFO sqlalchemy.engine.Engine COMMIT\n"
     ]
    }
   ],
   "source": [
    "from urllib.parse import quote_plus\n",
    "from sqlalchemy import create_engine\n",
    "\n",
    "# Данные для подключения\n",
    "user = \"main\"\n",
    "password = \"P@ssw0rd\"\n",
    "host = \"95.163.231.112\"\n",
    "port = 3306\n",
    "database = \"testDB\"\n",
    "\n",
    "# Кодирование пароля\n",
    "encoded_password = quote_plus(password)\n",
    "\n",
    "# Подключене\n",
    "connection_string = f\"mysql+mysqlconnector://{user}:{encoded_password}@{host}:{port}/{database}\"\n",
    "engine = create_engine(connection_string, echo=True)\n",
    "\n",
    "try:\n",
    "    # Попытка подключения\n",
    "    connection = engine.connect()\n",
    "    print(\"Успешное подключение!\")\n",
    "    df.to_sql(\"Main_Table\", con=engine, if_exists=\"replace\", index=False)\n",
    "    connection.close()\n",
    "except Exception as e:\n",
    "    print(f\"Ошибка подключения: {e}\")"
   ]
  },
  {
   "cell_type": "markdown",
   "id": "0b7bdadd-7a23-4214-bf4c-fda0711355a6",
   "metadata": {},
   "source": [
    "<hr>"
   ]
  },
  {
   "cell_type": "markdown",
   "id": "2a0dd6ad-edf8-459a-be40-b7d387de6178",
   "metadata": {},
   "source": [
    "# __Работа с запросами SQL__"
   ]
  },
  {
   "cell_type": "markdown",
   "id": "a8f4e3c1-8262-4917-a2c5-5ec74b622613",
   "metadata": {
    "tags": []
   },
   "source": [
    "<hr>"
   ]
  },
  {
   "cell_type": "markdown",
   "id": "703acddb-8d4e-445e-b16f-eabfdff695f6",
   "metadata": {},
   "source": [
    "Теперь мы можем приступить к работе с базой данных. Для подключения используйте __ip = 95.163.231.112, Username = main, port = 3306, password = Passw0rd.__\n",
    "![Подключение к серверу](server.png)\n",
    "\n",
    "Выведем нашу таблицу целиком таблицу.\n",
    "\n",
    "<code>SELECT *\n",
    "FROM Main_Table;</code>\n",
    "\n",
    "![Вся таблица](Images/Table.png)\n",
    "\n",
    "\n",
    "__Ответим на некоторые вопросы:__\n",
    "\n",
    "__Какой товар принес больше всего выручки?__\n",
    "\n",
    "<code>SELECT sku, `Название товара`, SUM(revenue) AS total_revenue\n",
    "FROM Main_Table\n",
    "GROUP BY sku, `Название товара`\n",
    "ORDER BY total_revenue DESC\n",
    "LIMIT 1;</code>\n",
    "\n",
    "![1](Images/1.png)\n",
    "\n",
    "__Какой товар находится выше всего в поиске?__\n",
    "\n",
    "<code>SELECT sku, MAX(`Название товара`) AS `Название товара`, SUM(position_category) AS total_position_search\n",
    "FROM Main_Table\n",
    "GROUP BY sku\n",
    "ORDER BY total_position_search DESC\n",
    "LIMIT 1;</code>\n",
    "\n",
    "![2](Images/2.png)\n",
    "\n",
    "__Какая товарная категория принесла наибольшую выручку?__\n",
    "\n",
    "<code>SELECT `Категория`, SUM(revenue) AS total_revenue_by_category\n",
    "FROM Main_Table\n",
    "GROUP BY `Категория`\n",
    "ORDER BY total_revenue_by_category DESC\n",
    "LIMIT 1;</code>\n",
    "\n",
    "![3](Images/3.png)\n",
    "\n",
    "__Товары из какой категории больше всего заказывают?__\n",
    "\n",
    "<code>SELECT sku, `Категория`, MAX(`Название товара`) AS `Название товара`, MAX(ordered_units) AS orders\n",
    "FROM Main_Table\n",
    "GROUP BY `Категория`, sku\n",
    "ORDER BY orders DESC\n",
    "LIMIT 1;</code>\n",
    "\n",
    "![4](Images/4.png)\n",
    "\n",
    "__Мы хотим проследить дельту изменения выручки в категории по отношению к прошедшему дню. Как это можно сделать?__\n",
    "\n",
    "Так как у нас нет данных по дням, мы не можем ответить на этот вопрос. Мы можем только оставить значения какие они есть, считая, что это первый день, тогда дельта = revenue - 0;\n",
    "\n",
    "Будь у нас значение дат report_date, то запрос выглядел как-то так: \n",
    "\n",
    "<code>SELECT \n",
    "    sku,\n",
    "    `Категория`,\n",
    "    COALESCE(\n",
    "        revenue - (\n",
    "            SELECT revenue \n",
    "            FROM Main_Table as Main_Table_yesterday  \n",
    "            WHERE Main_Table_yesterday.sku = Main_Table.sku \n",
    "              AND Main_Table_yesterday.dates = CURDATE() - INTERVAL 1 DAY\n",
    "            LIMIT 1\n",
    "        ), \n",
    "        revenue) as delta\n",
    "FROM Main_Table\n",
    "GROUP BY sku, `Категория`;\n",
    "</code>\n",
    "\n",
    "А в нашем случае дельта будет:\n",
    "\n",
    "<code>SELECT sku, `Категория`, revenue-0 as delta\n",
    "FROM Main_Table\n",
    "GROUP BY sku, `Категория`, delta;\n",
    "</code>\n",
    "\n",
    "![5](Images/5.png)\n",
    "\n",
    "\n",
    "__В какие дни недели товары чаще всего заказывают?__\n",
    "\n",
    "На этот вопрос без конкретных дат мы тоже ответить не можем. Но если бы они были, то запрос выглядел бы как-то так:\n",
    "\n",
    "<code>SELECT sku, `Название товара`, DAYOFWEEK(dates) as day_of_week, SUM(revenue) as rev\n",
    "FROM Main_Table\n",
    "GROUP BY sku, `Название товара`, DAYOFWEEK(dates);\n",
    "</code>"
   ]
  },
  {
   "cell_type": "markdown",
   "id": "89c6d692-31dd-4633-9eec-c864aa4d68be",
   "metadata": {},
   "source": [
    "<hr>"
   ]
  }
 ],
 "metadata": {
  "kernelspec": {
   "display_name": "Python 3 (ipykernel)",
   "language": "python",
   "name": "python3"
  },
  "language_info": {
   "codemirror_mode": {
    "name": "ipython",
    "version": 3
   },
   "file_extension": ".py",
   "mimetype": "text/x-python",
   "name": "python",
   "nbconvert_exporter": "python",
   "pygments_lexer": "ipython3",
   "version": "3.10.6"
  }
 },
 "nbformat": 4,
 "nbformat_minor": 5
}
